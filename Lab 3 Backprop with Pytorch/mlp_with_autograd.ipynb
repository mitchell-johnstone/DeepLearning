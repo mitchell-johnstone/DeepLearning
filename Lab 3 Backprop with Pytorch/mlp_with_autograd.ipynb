{
 "cells": [
  {
   "cell_type": "markdown",
   "metadata": {},
   "source": [
    "# Lab 3\n",
    "##### CS 3450 - Deep Learning\n",
    "#### Mitchell Johnstone"
   ]
  },
  {
   "cell_type": "markdown",
   "metadata": {},
   "source": [
    "## Introduction\n",
    "This lab works with a simple dataset in order to demonstrate the functionality of a simple network. The network is defined for us, with one hidden layer, usually with around 3 hidden nodes. We had to compute the network values by hand and then compute the network values in pytorch to verify our work. Then, since this lab is focussing only on the forward pass component, we compute the forward pass as we found in our defined equations and then use Pytorch's parameter gradients to process the backwards propagation."
   ]
  },
  {
   "cell_type": "markdown",
   "metadata": {},
   "source": [
    "## Setup"
   ]
  },
  {
   "cell_type": "code",
   "execution_count": 1,
   "metadata": {},
   "outputs": [],
   "source": [
    "import os\n",
    "import torch\n",
    "import torchvision\n",
    "from tqdm import tqdm\n",
    "import matplotlib.pyplot as plt"
   ]
  },
  {
   "cell_type": "code",
   "execution_count": 2,
   "metadata": {},
   "outputs": [],
   "source": [
    "# For simple regression problem\n",
    "TRAINING_POINTS = 1000"
   ]
  },
  {
   "cell_type": "markdown",
   "metadata": {},
   "source": [
    "## Data Set"
   ]
  },
  {
   "cell_type": "code",
   "execution_count": 3,
   "metadata": {},
   "outputs": [],
   "source": [
    "def create_linear_training_data():\n",
    "    \"\"\"\n",
    "    This method simply rotates points in a 2D space.\n",
    "    Be sure to use MSE in the place of the final softmax layer before testing on this\n",
    "    data!\n",
    "    :return: (x,y) the dataset. x is a numpy array where columns are training samples and\n",
    "             y is a numpy array where columns are one-hot labels for the training sample.\n",
    "    \"\"\"\n",
    "    x = torch.randn((2, TRAINING_POINTS))\n",
    "    x1 = x[0:1, :].clone()\n",
    "    x2 = x[1:2, :]\n",
    "    y = torch.cat((-x2, x1), axis=0)\n",
    "    return x, y"
   ]
  },
  {
   "cell_type": "markdown",
   "metadata": {},
   "source": [
    "## Checking the Network"
   ]
  },
  {
   "cell_type": "markdown",
   "metadata": {},
   "source": [
    "First, we'll need to define our network structure. We've already got a basis from the lab document, so we'll use those names.\n",
    "\n",
    "We need to do some some simple testing to ensure our network structure is as we expect."
   ]
  },
  {
   "cell_type": "code",
   "execution_count": 4,
   "metadata": {},
   "outputs": [
    {
     "data": {
      "text/plain": [
       "tensor([[0.1000, 0.9000]])"
      ]
     },
     "execution_count": 4,
     "metadata": {},
     "output_type": "execute_result"
    }
   ],
   "source": [
    "x = torch.tensor([[0.1, 0.9]])\n",
    "x"
   ]
  },
  {
   "cell_type": "code",
   "execution_count": 5,
   "metadata": {},
   "outputs": [
    {
     "data": {
      "text/plain": [
       "tensor([[1., 2., 3.],\n",
       "        [9., 8., 7.]])"
      ]
     },
     "execution_count": 5,
     "metadata": {},
     "output_type": "execute_result"
    }
   ],
   "source": [
    "W = torch.tensor([[1.0, 2, 3], [9, 8, 7]])\n",
    "W"
   ]
  },
  {
   "cell_type": "code",
   "execution_count": 6,
   "metadata": {},
   "outputs": [
    {
     "data": {
      "text/plain": [
       "tensor([[0.8000, 0.6000, 0.4000]])"
      ]
     },
     "execution_count": 6,
     "metadata": {},
     "output_type": "execute_result"
    }
   ],
   "source": [
    "b = torch.tensor([[0.8, 0.6, 0.4]])\n",
    "b"
   ]
  },
  {
   "cell_type": "code",
   "execution_count": 7,
   "metadata": {},
   "outputs": [
    {
     "data": {
      "text/plain": [
       "tensor([[9.0000, 8.0000, 7.0000]])"
      ]
     },
     "execution_count": 7,
     "metadata": {},
     "output_type": "execute_result"
    }
   ],
   "source": [
    "u = x@W + b\n",
    "u"
   ]
  },
  {
   "cell_type": "code",
   "execution_count": 8,
   "metadata": {},
   "outputs": [
    {
     "data": {
      "text/plain": [
       "tensor([[9.0000, 8.0000, 7.0000]])"
      ]
     },
     "execution_count": 8,
     "metadata": {},
     "output_type": "execute_result"
    }
   ],
   "source": [
    "h = u * (u>0)\n",
    "h"
   ]
  },
  {
   "cell_type": "code",
   "execution_count": 9,
   "metadata": {},
   "outputs": [
    {
     "data": {
      "text/plain": [
       "tensor([[0.1000, 0.7000],\n",
       "        [0.1000, 0.3000],\n",
       "        [0.2000, 0.8000]])"
      ]
     },
     "execution_count": 9,
     "metadata": {},
     "output_type": "execute_result"
    }
   ],
   "source": [
    "M = torch.tensor([[0.1, 0.7], [0.1, 0.3], [0.2, 0.8]])\n",
    "M"
   ]
  },
  {
   "cell_type": "code",
   "execution_count": 10,
   "metadata": {},
   "outputs": [
    {
     "data": {
      "text/plain": [
       "tensor([-7, -7])"
      ]
     },
     "execution_count": 10,
     "metadata": {},
     "output_type": "execute_result"
    }
   ],
   "source": [
    "c = torch.tensor([-7, -7])\n",
    "c"
   ]
  },
  {
   "cell_type": "code",
   "execution_count": 11,
   "metadata": {},
   "outputs": [
    {
     "data": {
      "text/plain": [
       "tensor([[-3.9000,  7.3000]])"
      ]
     },
     "execution_count": 11,
     "metadata": {},
     "output_type": "execute_result"
    }
   ],
   "source": [
    "v = h@M + c\n",
    "v"
   ]
  },
  {
   "cell_type": "code",
   "execution_count": 12,
   "metadata": {},
   "outputs": [
    {
     "data": {
      "text/plain": [
       "tensor([[-4,  8]])"
      ]
     },
     "execution_count": 12,
     "metadata": {},
     "output_type": "execute_result"
    }
   ],
   "source": [
    "y = torch.tensor([[-4, 8]])\n",
    "y"
   ]
  },
  {
   "cell_type": "code",
   "execution_count": 13,
   "metadata": {},
   "outputs": [
    {
     "data": {
      "text/plain": [
       "tensor(0.5000)"
      ]
     },
     "execution_count": 13,
     "metadata": {},
     "output_type": "execute_result"
    }
   ],
   "source": [
    "L = (y-v)@(y-v).T\n",
    "L = torch.norm(y-v)**2\n",
    "L"
   ]
  },
  {
   "cell_type": "code",
   "execution_count": 14,
   "metadata": {},
   "outputs": [
    {
     "data": {
      "text/plain": [
       "tensor(208.)"
      ]
     },
     "execution_count": 14,
     "metadata": {},
     "output_type": "execute_result"
    }
   ],
   "source": [
    "s1 = torch.norm(W)**2\n",
    "s1"
   ]
  },
  {
   "cell_type": "code",
   "execution_count": 15,
   "metadata": {},
   "outputs": [
    {
     "data": {
      "text/plain": [
       "tensor(1.2800)"
      ]
     },
     "execution_count": 15,
     "metadata": {},
     "output_type": "execute_result"
    }
   ],
   "source": [
    "s2 = torch.norm(M)**2\n",
    "s2"
   ]
  },
  {
   "cell_type": "code",
   "execution_count": 16,
   "metadata": {},
   "outputs": [
    {
     "data": {
      "text/plain": [
       "tensor(209.7800)"
      ]
     },
     "execution_count": 16,
     "metadata": {},
     "output_type": "execute_result"
    }
   ],
   "source": [
    "s = s1 + s2\n",
    "J = L + s\n",
    "J"
   ]
  },
  {
   "cell_type": "markdown",
   "metadata": {},
   "source": [
    "These match the predictions and calculations I had, so I'd expect this to be true."
   ]
  },
  {
   "cell_type": "markdown",
   "metadata": {},
   "source": [
    "## Final Network"
   ]
  },
  {
   "cell_type": "markdown",
   "metadata": {},
   "source": [
    "#### Meta Parameters"
   ]
  },
  {
   "cell_type": "code",
   "execution_count": 17,
   "metadata": {},
   "outputs": [],
   "source": [
    "lr = 1e-3\n",
    "reg = 0"
   ]
  },
  {
   "cell_type": "markdown",
   "metadata": {},
   "source": [
    "#### Network Structure"
   ]
  },
  {
   "cell_type": "code",
   "execution_count": 18,
   "metadata": {},
   "outputs": [],
   "source": [
    "# TODO: Build your network.\n",
    "W = torch.rand((2,3), requires_grad=True)\n",
    "b = torch.zeros((1,3), requires_grad=True)\n",
    "M = torch.rand((3,2), requires_grad=True)\n",
    "c = torch.zeros((1,2), requires_grad=True)"
   ]
  },
  {
   "cell_type": "code",
   "execution_count": 19,
   "metadata": {},
   "outputs": [],
   "source": [
    "# TODO: Select your datasource.\n",
    "x_train, y_train = create_linear_training_data()\n",
    "x_train, y_train = x_train.T, y_train.T"
   ]
  },
  {
   "cell_type": "code",
   "execution_count": 20,
   "metadata": {
    "scrolled": true
   },
   "outputs": [],
   "source": [
    "# TODO: Train your network.\n",
    "epochs = 100\n",
    "batch_size = 25\n",
    "assert x_train.shape[0] % batch_size == 0\n",
    "\n",
    "losses = []\n",
    "\n",
    "# Batching inspired by https://stackoverflow.com/questions/45113245/how-to-get-mini-batches-in-pytorch-in-a-clean-and-efficient-way\n",
    "for epoch in range(epochs):\n",
    "    # Permute the data\n",
    "    permutation = torch.randperm(x_train.shape[0])\n",
    "    \n",
    "    # Run through batches\n",
    "    for i in range(0,x_train.shape[0], batch_size):\n",
    "        \n",
    "        # Get batch\n",
    "        indices = permutation[i:i+batch_size]\n",
    "        batch_x, batch_y = x_train[indices,:], y_train[indices,:]\n",
    "        \n",
    "        # forward pass\n",
    "        ## First Layer\n",
    "        u = batch_x@W + b\n",
    "        h = u*(u>0)\n",
    "        ## Second Layer\n",
    "        v = h@M+c\n",
    "        ## loss\n",
    "        L = torch.norm(v-batch_y)**2\n",
    "        # Record loss\n",
    "        losses.append(L.item())\n",
    "        # Objective Function\n",
    "        s1 = reg*torch.norm(W)**2\n",
    "        s2 = reg*torch.norm(M)**2\n",
    "        s = s1+s2\n",
    "        J = L+s\n",
    "        \n",
    "        # backward pass\n",
    "        J.backward()\n",
    "        \n",
    "        # Update learning parameters\n",
    "        W.data -= lr * W.grad\n",
    "        b.data -= lr * b.grad\n",
    "        M.data -= lr * M.grad\n",
    "        c.data -= lr * c.grad\n",
    "        \n",
    "        # zero the gradients\n",
    "        W.grad.zero_()\n",
    "        b.grad.zero_()\n",
    "        M.grad.zero_()\n",
    "        c.grad.zero_()"
   ]
  },
  {
   "cell_type": "code",
   "execution_count": 21,
   "metadata": {},
   "outputs": [
    {
     "data": {
      "text/plain": [
       "Text(0, 0.5, 'Loss')"
      ]
     },
     "execution_count": 21,
     "metadata": {},
     "output_type": "execute_result"
    },
    {
     "data": {
      "image/png": "[encoded data removed]",
      "text/plain": [
       "<Figure size 432x288 with 1 Axes>"
      ]
     },
     "metadata": {
      "needs_background": "light"
     },
     "output_type": "display_data"
    }
   ],
   "source": [
    "plt.plot(losses)\n",
    "plt.title(\"Loss graph of network\")\n",
    "plt.xlabel(\"Batch #\")\n",
    "plt.ylabel(\"Loss\")"
   ]
  },
  {
   "cell_type": "markdown",
   "metadata": {},
   "source": [
    "##### Check the network weights for a linear operation."
   ]
  },
  {
   "cell_type": "code",
   "execution_count": 22,
   "metadata": {
    "scrolled": true
   },
   "outputs": [
    {
     "data": {
      "text/plain": [
       "tensor([[-0.1664,  1.0332],\n",
       "        [-1.9671,  0.1905]], grad_fn=<MmBackward>)"
      ]
     },
     "execution_count": 22,
     "metadata": {},
     "output_type": "execute_result"
    }
   ],
   "source": [
    "# But you must computed W*M as discussed in the lab assignment.\n",
    "W@M"
   ]
  },
  {
   "cell_type": "markdown",
   "metadata": {},
   "source": [
    "#### Train until it's super close!"
   ]
  },
  {
   "cell_type": "code",
   "execution_count": 23,
   "metadata": {},
   "outputs": [],
   "source": [
    "# TODO: Build your network.\n",
    "W = torch.rand((2,3), requires_grad=True)\n",
    "b = torch.zeros((1,3), requires_grad=True)\n",
    "M = torch.rand((3,2), requires_grad=True)\n",
    "c = torch.zeros((1,2), requires_grad=True)"
   ]
  },
  {
   "cell_type": "code",
   "execution_count": 24,
   "metadata": {},
   "outputs": [],
   "source": [
    "# TODO: Select your datasource.\n",
    "x_train, y_train = create_linear_training_data()\n",
    "x_train, y_train = x_train.T, y_train.T"
   ]
  },
  {
   "cell_type": "code",
   "execution_count": 25,
   "metadata": {
    "scrolled": true
   },
   "outputs": [],
   "source": [
    "# TODO: Train your network.\n",
    "threshhold = 1e-8\n",
    "target = torch.tensor([[0, 1], [-1, 0]])\n",
    "batch_size = 25\n",
    "assert x_train.shape[0] % batch_size == 0\n",
    "\n",
    "losses = []\n",
    "num_epochs = 0\n",
    "\n",
    "close = False\n",
    "# Batching inspired by https://stackoverflow.com/questions/45113245/how-to-get-mini-batches-in-pytorch-in-a-clean-and-efficient-way\n",
    "while not close:\n",
    "    # Permute the data\n",
    "    permutation = torch.randperm(x_train.shape[0])\n",
    "    num_epochs += 1\n",
    "    \n",
    "    # Run through batches\n",
    "    for i in range(0,x_train.shape[0], batch_size):\n",
    "        # Get batch\n",
    "        indices = permutation[i:i+batch_size]\n",
    "        batch_x, batch_y = x_train[indices,:], y_train[indices,:]\n",
    "        \n",
    "        # forward pass\n",
    "        ## First Layer\n",
    "        u = batch_x@W + b\n",
    "        h = u*(u>0)\n",
    "        ## Second Layer\n",
    "        v = h@M+c\n",
    "        ## loss\n",
    "        L = torch.norm(v-batch_y)**2\n",
    "        # Record loss\n",
    "        losses.append(L.item())\n",
    "        # Objective Function\n",
    "        s1 = reg*torch.norm(W)**2\n",
    "        s2 = reg*torch.norm(M)**2\n",
    "        s = s1+s2\n",
    "        J = L+s\n",
    "        \n",
    "        # backward pass\n",
    "        J.backward()\n",
    "        \n",
    "        # Update learning parameters\n",
    "        W.data -= lr * W.grad\n",
    "        b.data -= lr * b.grad\n",
    "        M.data -= lr * M.grad\n",
    "        c.data -= lr * c.grad\n",
    "        \n",
    "        # zero the gradients\n",
    "        W.grad.zero_()\n",
    "        b.grad.zero_()\n",
    "        M.grad.zero_()\n",
    "        c.grad.zero_()\n",
    "        \n",
    "        close = close or (threshhold >= (torch.norm(W@M - target)**2).item())"
   ]
  },
  {
   "cell_type": "code",
   "execution_count": 26,
   "metadata": {},
   "outputs": [
    {
     "name": "stdout",
     "output_type": "stream",
     "text": [
      "Converged in 99  epochs.\n"
     ]
    },
    {
     "data": {
      "image/png": "[encoded data removed]",
      "text/plain": [
       "<Figure size 432x288 with 1 Axes>"
      ]
     },
     "metadata": {
      "needs_background": "light"
     },
     "output_type": "display_data"
    }
   ],
   "source": [
    "plt.plot(losses)\n",
    "plt.title(\"Loss graph of network\")\n",
    "plt.xlabel(\"Batch #\")\n",
    "plt.ylabel(\"Loss\")\n",
    "print(\"Converged in\", num_epochs,\" epochs.\")"
   ]
  },
  {
   "cell_type": "markdown",
   "metadata": {},
   "source": [
    "##### Check the network weights for a linear operation."
   ]
  },
  {
   "cell_type": "code",
   "execution_count": 27,
   "metadata": {
    "scrolled": true
   },
   "outputs": [
    {
     "data": {
      "text/plain": [
       "tensor([[ 0.0024,  1.0011],\n",
       "        [-1.0032, -0.0014]], grad_fn=<MmBackward>)"
      ]
     },
     "execution_count": 27,
     "metadata": {},
     "output_type": "execute_result"
    }
   ],
   "source": [
    "# But you must computed W*M as discussed in the lab assignment.\n",
    "W@M"
   ]
  },
  {
   "cell_type": "markdown",
   "metadata": {},
   "source": [
    "## Conclusion\n",
    "I thought this lab was really cool! The linear algebra was fairly straight forward and I enjoyed working it out by hand before confirming it in the network in the notebook. \n",
    "\n",
    "I'll be interested to see how the gradients are calculated. I feel like I can kind of see it already in my head, but I want to do it first. Anyways, it was cool to see. And then I loved being able to visualize the loss and compute everything myself so I felt like I had good control over the network.\n",
    "\n",
    "It took a bit to find the right learning parameter to use, but I think that for this dataset the 1e-3 learning rate was good enough to have convergence. Too far deviating caused issues with fluctuation and slow convergence."
   ]
  }
 ],
 "metadata": {
  "kernelspec": {
   "display_name": "Python 3",
   "language": "python",
   "name": "python3"
  },
  "language_info": {
   "codemirror_mode": {
    "name": "ipython",
    "version": 3
   },
   "file_extension": ".py",
   "mimetype": "text/x-python",
   "name": "python",
   "nbconvert_exporter": "python",
   "pygments_lexer": "ipython3",
   "version": "3.6.10"
  }
 },
 "nbformat": 4,
 "nbformat_minor": 4
}
